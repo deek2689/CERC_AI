{
  "nbformat": 4,
  "nbformat_minor": 0,
  "metadata": {
    "colab": {
      "provenance": [],
      "authorship_tag": "ABX9TyPz4seCDDMXUh7PXIAKAp1v",
      "include_colab_link": true
    },
    "kernelspec": {
      "name": "python3",
      "display_name": "Python 3"
    },
    "language_info": {
      "name": "python"
    }
  },
  "cells": [
    {
      "cell_type": "markdown",
      "metadata": {
        "id": "view-in-github",
        "colab_type": "text"
      },
      "source": [
        "<a href=\"https://colab.research.google.com/github/deek2689/CERC_AI/blob/main/Gemini_data_formatting_CERC.ipynb\" target=\"_parent\"><img src=\"https://colab.research.google.com/assets/colab-badge.svg\" alt=\"Open In Colab\"/></a>"
      ]
    },
    {
      "cell_type": "code",
      "execution_count": 2,
      "metadata": {
        "colab": {
          "base_uri": "https://localhost:8080/"
        },
        "id": "pAFbZu1xKLea",
        "outputId": "2869ebe2-cea5-4cb5-fed8-36bcf0a3754c"
      },
      "outputs": [
        {
          "output_type": "stream",
          "name": "stdout",
          "text": [
            "Mounted at /content/drive\n"
          ]
        }
      ],
      "source": [
        "from google.colab import drive\n",
        "drive.mount('/content/drive')\n"
      ]
    },
    {
      "cell_type": "code",
      "source": [],
      "metadata": {
        "id": "E27GUtYurGD6"
      },
      "execution_count": null,
      "outputs": []
    },
    {
      "cell_type": "code",
      "source": [
        "import pandas as pd\n",
        "import numpy as np\n",
        "import json\n",
        "\n",
        "train_path = 'https://raw.githubusercontent.com/deek2689/CERC_AI/refs/heads/main/train.csv'\n",
        "test_path = 'https://raw.githubusercontent.com/deek2689/CERC_AI/refs/heads/main/test.csv'\n",
        "val_path = 'https://raw.githubusercontent.com/deek2689/CERC_AI/refs/heads/main/dev.csv'\n",
        "\n",
        "train_data = pd.read_csv(train_path)\n",
        "test_data = pd.read_csv(test_path)\n",
        "val_data = pd.read_csv(val_path)\n"
      ],
      "metadata": {
        "id": "o9I-g-ZfKWcr"
      },
      "execution_count": 21,
      "outputs": []
    },
    {
      "cell_type": "code",
      "source": [
        "train_data.head(10)"
      ],
      "metadata": {
        "id": "GUG2yNOC18s9",
        "colab": {
          "base_uri": "https://localhost:8080/",
          "height": 362
        },
        "outputId": "59f60621-6c98-4fa1-e11d-e3b4735d2265"
      },
      "execution_count": 22,
      "outputs": [
        {
          "output_type": "execute_result",
          "data": {
            "text/plain": [
              "                                         Description  Category\n",
              "0  Was walking along crowded street, holding mums...         0\n",
              "1  This incident took place in the evening.I was ...         0\n",
              "2  I WAS WAITING FOR THE BUS. A MAN CAME ON A BIK...         1\n",
              "3                 Incident happened inside the train         0\n",
              "4  I witnessed an incident when a chain was bruta...         0\n",
              "5  ONE DAY I WAS WALKING AT JORPATI I SAW A BOY T...         0\n",
              "6  i have heard about indecent people making inde...         0\n",
              "7  When I entered the subway it was dark, so I de...         0\n",
              "8                                     Sexual Invites         0\n",
              "9                               poor street lighting         0"
            ],
            "text/html": [
              "\n",
              "  <div id=\"df-f0fc3b1b-dbf9-4963-b1bc-3e0b84bba7aa\" class=\"colab-df-container\">\n",
              "    <div>\n",
              "<style scoped>\n",
              "    .dataframe tbody tr th:only-of-type {\n",
              "        vertical-align: middle;\n",
              "    }\n",
              "\n",
              "    .dataframe tbody tr th {\n",
              "        vertical-align: top;\n",
              "    }\n",
              "\n",
              "    .dataframe thead th {\n",
              "        text-align: right;\n",
              "    }\n",
              "</style>\n",
              "<table border=\"1\" class=\"dataframe\">\n",
              "  <thead>\n",
              "    <tr style=\"text-align: right;\">\n",
              "      <th></th>\n",
              "      <th>Description</th>\n",
              "      <th>Category</th>\n",
              "    </tr>\n",
              "  </thead>\n",
              "  <tbody>\n",
              "    <tr>\n",
              "      <th>0</th>\n",
              "      <td>Was walking along crowded street, holding mums...</td>\n",
              "      <td>0</td>\n",
              "    </tr>\n",
              "    <tr>\n",
              "      <th>1</th>\n",
              "      <td>This incident took place in the evening.I was ...</td>\n",
              "      <td>0</td>\n",
              "    </tr>\n",
              "    <tr>\n",
              "      <th>2</th>\n",
              "      <td>I WAS WAITING FOR THE BUS. A MAN CAME ON A BIK...</td>\n",
              "      <td>1</td>\n",
              "    </tr>\n",
              "    <tr>\n",
              "      <th>3</th>\n",
              "      <td>Incident happened inside the train</td>\n",
              "      <td>0</td>\n",
              "    </tr>\n",
              "    <tr>\n",
              "      <th>4</th>\n",
              "      <td>I witnessed an incident when a chain was bruta...</td>\n",
              "      <td>0</td>\n",
              "    </tr>\n",
              "    <tr>\n",
              "      <th>5</th>\n",
              "      <td>ONE DAY I WAS WALKING AT JORPATI I SAW A BOY T...</td>\n",
              "      <td>0</td>\n",
              "    </tr>\n",
              "    <tr>\n",
              "      <th>6</th>\n",
              "      <td>i have heard about indecent people making inde...</td>\n",
              "      <td>0</td>\n",
              "    </tr>\n",
              "    <tr>\n",
              "      <th>7</th>\n",
              "      <td>When I entered the subway it was dark, so I de...</td>\n",
              "      <td>0</td>\n",
              "    </tr>\n",
              "    <tr>\n",
              "      <th>8</th>\n",
              "      <td>Sexual Invites</td>\n",
              "      <td>0</td>\n",
              "    </tr>\n",
              "    <tr>\n",
              "      <th>9</th>\n",
              "      <td>poor street lighting</td>\n",
              "      <td>0</td>\n",
              "    </tr>\n",
              "  </tbody>\n",
              "</table>\n",
              "</div>\n",
              "    <div class=\"colab-df-buttons\">\n",
              "\n",
              "  <div class=\"colab-df-container\">\n",
              "    <button class=\"colab-df-convert\" onclick=\"convertToInteractive('df-f0fc3b1b-dbf9-4963-b1bc-3e0b84bba7aa')\"\n",
              "            title=\"Convert this dataframe to an interactive table.\"\n",
              "            style=\"display:none;\">\n",
              "\n",
              "  <svg xmlns=\"http://www.w3.org/2000/svg\" height=\"24px\" viewBox=\"0 -960 960 960\">\n",
              "    <path d=\"M120-120v-720h720v720H120Zm60-500h600v-160H180v160Zm220 220h160v-160H400v160Zm0 220h160v-160H400v160ZM180-400h160v-160H180v160Zm440 0h160v-160H620v160ZM180-180h160v-160H180v160Zm440 0h160v-160H620v160Z\"/>\n",
              "  </svg>\n",
              "    </button>\n",
              "\n",
              "  <style>\n",
              "    .colab-df-container {\n",
              "      display:flex;\n",
              "      gap: 12px;\n",
              "    }\n",
              "\n",
              "    .colab-df-convert {\n",
              "      background-color: #E8F0FE;\n",
              "      border: none;\n",
              "      border-radius: 50%;\n",
              "      cursor: pointer;\n",
              "      display: none;\n",
              "      fill: #1967D2;\n",
              "      height: 32px;\n",
              "      padding: 0 0 0 0;\n",
              "      width: 32px;\n",
              "    }\n",
              "\n",
              "    .colab-df-convert:hover {\n",
              "      background-color: #E2EBFA;\n",
              "      box-shadow: 0px 1px 2px rgba(60, 64, 67, 0.3), 0px 1px 3px 1px rgba(60, 64, 67, 0.15);\n",
              "      fill: #174EA6;\n",
              "    }\n",
              "\n",
              "    .colab-df-buttons div {\n",
              "      margin-bottom: 4px;\n",
              "    }\n",
              "\n",
              "    [theme=dark] .colab-df-convert {\n",
              "      background-color: #3B4455;\n",
              "      fill: #D2E3FC;\n",
              "    }\n",
              "\n",
              "    [theme=dark] .colab-df-convert:hover {\n",
              "      background-color: #434B5C;\n",
              "      box-shadow: 0px 1px 3px 1px rgba(0, 0, 0, 0.15);\n",
              "      filter: drop-shadow(0px 1px 2px rgba(0, 0, 0, 0.3));\n",
              "      fill: #FFFFFF;\n",
              "    }\n",
              "  </style>\n",
              "\n",
              "    <script>\n",
              "      const buttonEl =\n",
              "        document.querySelector('#df-f0fc3b1b-dbf9-4963-b1bc-3e0b84bba7aa button.colab-df-convert');\n",
              "      buttonEl.style.display =\n",
              "        google.colab.kernel.accessAllowed ? 'block' : 'none';\n",
              "\n",
              "      async function convertToInteractive(key) {\n",
              "        const element = document.querySelector('#df-f0fc3b1b-dbf9-4963-b1bc-3e0b84bba7aa');\n",
              "        const dataTable =\n",
              "          await google.colab.kernel.invokeFunction('convertToInteractive',\n",
              "                                                    [key], {});\n",
              "        if (!dataTable) return;\n",
              "\n",
              "        const docLinkHtml = 'Like what you see? Visit the ' +\n",
              "          '<a target=\"_blank\" href=https://colab.research.google.com/notebooks/data_table.ipynb>data table notebook</a>'\n",
              "          + ' to learn more about interactive tables.';\n",
              "        element.innerHTML = '';\n",
              "        dataTable['output_type'] = 'display_data';\n",
              "        await google.colab.output.renderOutput(dataTable, element);\n",
              "        const docLink = document.createElement('div');\n",
              "        docLink.innerHTML = docLinkHtml;\n",
              "        element.appendChild(docLink);\n",
              "      }\n",
              "    </script>\n",
              "  </div>\n",
              "\n",
              "\n",
              "<div id=\"df-88e70c59-1ba5-425a-851c-8c6a3587c815\">\n",
              "  <button class=\"colab-df-quickchart\" onclick=\"quickchart('df-88e70c59-1ba5-425a-851c-8c6a3587c815')\"\n",
              "            title=\"Suggest charts\"\n",
              "            style=\"display:none;\">\n",
              "\n",
              "<svg xmlns=\"http://www.w3.org/2000/svg\" height=\"24px\"viewBox=\"0 0 24 24\"\n",
              "     width=\"24px\">\n",
              "    <g>\n",
              "        <path d=\"M19 3H5c-1.1 0-2 .9-2 2v14c0 1.1.9 2 2 2h14c1.1 0 2-.9 2-2V5c0-1.1-.9-2-2-2zM9 17H7v-7h2v7zm4 0h-2V7h2v10zm4 0h-2v-4h2v4z\"/>\n",
              "    </g>\n",
              "</svg>\n",
              "  </button>\n",
              "\n",
              "<style>\n",
              "  .colab-df-quickchart {\n",
              "      --bg-color: #E8F0FE;\n",
              "      --fill-color: #1967D2;\n",
              "      --hover-bg-color: #E2EBFA;\n",
              "      --hover-fill-color: #174EA6;\n",
              "      --disabled-fill-color: #AAA;\n",
              "      --disabled-bg-color: #DDD;\n",
              "  }\n",
              "\n",
              "  [theme=dark] .colab-df-quickchart {\n",
              "      --bg-color: #3B4455;\n",
              "      --fill-color: #D2E3FC;\n",
              "      --hover-bg-color: #434B5C;\n",
              "      --hover-fill-color: #FFFFFF;\n",
              "      --disabled-bg-color: #3B4455;\n",
              "      --disabled-fill-color: #666;\n",
              "  }\n",
              "\n",
              "  .colab-df-quickchart {\n",
              "    background-color: var(--bg-color);\n",
              "    border: none;\n",
              "    border-radius: 50%;\n",
              "    cursor: pointer;\n",
              "    display: none;\n",
              "    fill: var(--fill-color);\n",
              "    height: 32px;\n",
              "    padding: 0;\n",
              "    width: 32px;\n",
              "  }\n",
              "\n",
              "  .colab-df-quickchart:hover {\n",
              "    background-color: var(--hover-bg-color);\n",
              "    box-shadow: 0 1px 2px rgba(60, 64, 67, 0.3), 0 1px 3px 1px rgba(60, 64, 67, 0.15);\n",
              "    fill: var(--button-hover-fill-color);\n",
              "  }\n",
              "\n",
              "  .colab-df-quickchart-complete:disabled,\n",
              "  .colab-df-quickchart-complete:disabled:hover {\n",
              "    background-color: var(--disabled-bg-color);\n",
              "    fill: var(--disabled-fill-color);\n",
              "    box-shadow: none;\n",
              "  }\n",
              "\n",
              "  .colab-df-spinner {\n",
              "    border: 2px solid var(--fill-color);\n",
              "    border-color: transparent;\n",
              "    border-bottom-color: var(--fill-color);\n",
              "    animation:\n",
              "      spin 1s steps(1) infinite;\n",
              "  }\n",
              "\n",
              "  @keyframes spin {\n",
              "    0% {\n",
              "      border-color: transparent;\n",
              "      border-bottom-color: var(--fill-color);\n",
              "      border-left-color: var(--fill-color);\n",
              "    }\n",
              "    20% {\n",
              "      border-color: transparent;\n",
              "      border-left-color: var(--fill-color);\n",
              "      border-top-color: var(--fill-color);\n",
              "    }\n",
              "    30% {\n",
              "      border-color: transparent;\n",
              "      border-left-color: var(--fill-color);\n",
              "      border-top-color: var(--fill-color);\n",
              "      border-right-color: var(--fill-color);\n",
              "    }\n",
              "    40% {\n",
              "      border-color: transparent;\n",
              "      border-right-color: var(--fill-color);\n",
              "      border-top-color: var(--fill-color);\n",
              "    }\n",
              "    60% {\n",
              "      border-color: transparent;\n",
              "      border-right-color: var(--fill-color);\n",
              "    }\n",
              "    80% {\n",
              "      border-color: transparent;\n",
              "      border-right-color: var(--fill-color);\n",
              "      border-bottom-color: var(--fill-color);\n",
              "    }\n",
              "    90% {\n",
              "      border-color: transparent;\n",
              "      border-bottom-color: var(--fill-color);\n",
              "    }\n",
              "  }\n",
              "</style>\n",
              "\n",
              "  <script>\n",
              "    async function quickchart(key) {\n",
              "      const quickchartButtonEl =\n",
              "        document.querySelector('#' + key + ' button');\n",
              "      quickchartButtonEl.disabled = true;  // To prevent multiple clicks.\n",
              "      quickchartButtonEl.classList.add('colab-df-spinner');\n",
              "      try {\n",
              "        const charts = await google.colab.kernel.invokeFunction(\n",
              "            'suggestCharts', [key], {});\n",
              "      } catch (error) {\n",
              "        console.error('Error during call to suggestCharts:', error);\n",
              "      }\n",
              "      quickchartButtonEl.classList.remove('colab-df-spinner');\n",
              "      quickchartButtonEl.classList.add('colab-df-quickchart-complete');\n",
              "    }\n",
              "    (() => {\n",
              "      let quickchartButtonEl =\n",
              "        document.querySelector('#df-88e70c59-1ba5-425a-851c-8c6a3587c815 button');\n",
              "      quickchartButtonEl.style.display =\n",
              "        google.colab.kernel.accessAllowed ? 'block' : 'none';\n",
              "    })();\n",
              "  </script>\n",
              "</div>\n",
              "\n",
              "    </div>\n",
              "  </div>\n"
            ],
            "application/vnd.google.colaboratory.intrinsic+json": {
              "type": "dataframe",
              "variable_name": "train_data",
              "summary": "{\n  \"name\": \"train_data\",\n  \"rows\": 7201,\n  \"fields\": [\n    {\n      \"column\": \"Description\",\n      \"properties\": {\n        \"dtype\": \"string\",\n        \"num_unique_values\": 6659,\n        \"samples\": [\n          \"When i was returning from my college one old guy whistles at me near a poolchowk and did a facial expression which was very unusal.\",\n          \"Today when I was climbing up the stairs of a railway bridge, a man passed by saying 'What are you doing baby?' Makes me cringe. I've heard worse things before.\",\n          \"COmmenting\"\n        ],\n        \"semantic_type\": \"\",\n        \"description\": \"\"\n      }\n    },\n    {\n      \"column\": \"Category\",\n      \"properties\": {\n        \"dtype\": \"number\",\n        \"std\": 0,\n        \"min\": 0,\n        \"max\": 1,\n        \"num_unique_values\": 2,\n        \"samples\": [\n          1,\n          0\n        ],\n        \"semantic_type\": \"\",\n        \"description\": \"\"\n      }\n    }\n  ]\n}"
            }
          },
          "metadata": {},
          "execution_count": 22
        }
      ]
    },
    {
      "cell_type": "code",
      "source": [
        "train_data = train_data.replace({0: False, 1: True})\n",
        "test_data = test_data.replace({0: False, 1: True})\n",
        "val_data = test_data = test_data.replace({0: False, 1: True})"
      ],
      "metadata": {
        "colab": {
          "base_uri": "https://localhost:8080/"
        },
        "id": "zxGrfSTVzVLP",
        "outputId": "bbd35de3-4910-476f-f040-e502573f7634"
      },
      "execution_count": 33,
      "outputs": [
        {
          "output_type": "stream",
          "name": "stderr",
          "text": [
            "<ipython-input-33-76034091e0c3>:2: FutureWarning: Downcasting behavior in `replace` is deprecated and will be removed in a future version. To retain the old behavior, explicitly call `result.infer_objects(copy=False)`. To opt-in to the future behavior, set `pd.set_option('future.no_silent_downcasting', True)`\n",
            "  test_data = test_data.replace({0: False, 1: True})\n"
          ]
        }
      ]
    },
    {
      "cell_type": "code",
      "source": [
        "train_data.columns\n",
        "\n"
      ],
      "metadata": {
        "colab": {
          "base_uri": "https://localhost:8080/"
        },
        "id": "UywTOVrIyMG6",
        "outputId": "c930417d-318a-42c4-9856-ccdab716b96e"
      },
      "execution_count": 34,
      "outputs": [
        {
          "output_type": "execute_result",
          "data": {
            "text/plain": [
              "Index(['Description', 'Category'], dtype='object')"
            ]
          },
          "metadata": {},
          "execution_count": 34
        }
      ]
    },
    {
      "cell_type": "code",
      "source": [
        "def format_for_gemini(df):\n",
        "    formatted_data = []\n",
        "\n",
        "    for _, row in df.iterrows():\n",
        "        messages = []\n",
        "\n",
        "        statement = row['Description']\n",
        "        label = row['Category']\n",
        "\n",
        "        # System message (Instruction)\n",
        "        system_message = {\n",
        "            \"role\": \"system\",\n",
        "            \"content\": \"Classify if the following statement falls under commenting related to sexual harassment. The output must be a single label: 'True' or 'False'.\"\n",
        "        }\n",
        "        messages.append(system_message)\n",
        "\n",
        "        # User message content containing the statement\n",
        "        user_message_content = f\"STATEMENT: {statement}\"\n",
        "        user_message = {\n",
        "            \"role\": \"user\",\n",
        "            \"content\": user_message_content\n",
        "        }\n",
        "        messages.append(user_message)\n",
        "\n",
        "        # Target Label\n",
        "        model_message = {\n",
        "            \"role\": \"model\",\n",
        "            \"content\": label\n",
        "        }\n",
        "        messages.append(model_message)\n",
        "\n",
        "        # Formatting as JSON-compatible dictionary\n",
        "        formatted_item = {\"messages\": messages}\n",
        "        formatted_data.append(formatted_item)\n",
        "\n",
        "    return formatted_data"
      ],
      "metadata": {
        "id": "WSU5ygrZmvKf"
      },
      "execution_count": 35,
      "outputs": []
    },
    {
      "cell_type": "markdown",
      "source": [
        "Following is a conversation"
      ],
      "metadata": {
        "id": "We02R2iF3TPe"
      }
    },
    {
      "cell_type": "code",
      "source": [],
      "metadata": {
        "id": "QVwbBDQA3S2X"
      },
      "execution_count": null,
      "outputs": []
    },
    {
      "cell_type": "code",
      "source": [
        "train_formatted_gemini = format_for_gemini(train_data)\n",
        "test_formatted_gemini = format_for_gemini(test_data)\n",
        "val_formatted_gemini = format_for_gemini(val_data)"
      ],
      "metadata": {
        "id": "jcga-SIOJ9bM"
      },
      "execution_count": 36,
      "outputs": []
    },
    {
      "cell_type": "code",
      "source": [
        "train_formatted_gemini[0:10]"
      ],
      "metadata": {
        "colab": {
          "base_uri": "https://localhost:8080/"
        },
        "id": "xaogfbFdzNBk",
        "outputId": "24f47c3c-3113-4681-a61f-c3740b206205"
      },
      "execution_count": 37,
      "outputs": [
        {
          "output_type": "execute_result",
          "data": {
            "text/plain": [
              "[{'messages': [{'role': 'system',\n",
              "    'content': \"Classify if the following statement falls under commenting related to sexual harassment. The output must be a single label: 'True' or 'False'.\"},\n",
              "   {'role': 'user',\n",
              "    'content': 'STATEMENT: Was walking along crowded street, holding mums hand, when an elderly man groped butt, I turned to look at h7m and he looked away, and did it again after a while.I was 12 yrs old then.'},\n",
              "   {'role': 'model', 'content': False}]},\n",
              " {'messages': [{'role': 'system',\n",
              "    'content': \"Classify if the following statement falls under commenting related to sexual harassment. The output must be a single label: 'True' or 'False'.\"},\n",
              "   {'role': 'user',\n",
              "    'content': 'STATEMENT: This incident took place in the evening.I was in the metro when two guys started staring.'},\n",
              "   {'role': 'model', 'content': False}]},\n",
              " {'messages': [{'role': 'system',\n",
              "    'content': \"Classify if the following statement falls under commenting related to sexual harassment. The output must be a single label: 'True' or 'False'.\"},\n",
              "   {'role': 'user',\n",
              "    'content': 'STATEMENT: I WAS WAITING FOR THE BUS. A MAN CAME ON A BIKE AND WAS OFFERING LIFTVTO YOUNG GIRLS.'},\n",
              "   {'role': 'model', 'content': True}]},\n",
              " {'messages': [{'role': 'system',\n",
              "    'content': \"Classify if the following statement falls under commenting related to sexual harassment. The output must be a single label: 'True' or 'False'.\"},\n",
              "   {'role': 'user',\n",
              "    'content': 'STATEMENT: Incident happened inside the train'},\n",
              "   {'role': 'model', 'content': False}]},\n",
              " {'messages': [{'role': 'system',\n",
              "    'content': \"Classify if the following statement falls under commenting related to sexual harassment. The output must be a single label: 'True' or 'False'.\"},\n",
              "   {'role': 'user',\n",
              "    'content': 'STATEMENT: I witnessed an incident when a chain was brutally snatched from an elderly lady . The incident took place during evening .'},\n",
              "   {'role': 'model', 'content': False}]},\n",
              " {'messages': [{'role': 'system',\n",
              "    'content': \"Classify if the following statement falls under commenting related to sexual harassment. The output must be a single label: 'True' or 'False'.\"},\n",
              "   {'role': 'user',\n",
              "    'content': 'STATEMENT: ONE DAY I WAS WALKING AT JORPATI I SAW A BOY TRY T0 TAKE PICTURE OF A GIRL N GIRL DIDNT KNOW N ITELL HER ABT IT SHE REPOT TO POLISH NEARBY JORPATI'},\n",
              "   {'role': 'model', 'content': False}]},\n",
              " {'messages': [{'role': 'system',\n",
              "    'content': \"Classify if the following statement falls under commenting related to sexual harassment. The output must be a single label: 'True' or 'False'.\"},\n",
              "   {'role': 'user',\n",
              "    'content': 'STATEMENT: i have heard about indecent people making indecent comments'},\n",
              "   {'role': 'model', 'content': False}]},\n",
              " {'messages': [{'role': 'system',\n",
              "    'content': \"Classify if the following statement falls under commenting related to sexual harassment. The output must be a single label: 'True' or 'False'.\"},\n",
              "   {'role': 'user',\n",
              "    'content': 'STATEMENT: When I entered the subway it was dark, so I decided to go back from their, but suddenly a man came to me amp hold my hand amp forced me to go from that subway, and also asked me my number. (Lajpat Nagar, subway)'},\n",
              "   {'role': 'model', 'content': False}]},\n",
              " {'messages': [{'role': 'system',\n",
              "    'content': \"Classify if the following statement falls under commenting related to sexual harassment. The output must be a single label: 'True' or 'False'.\"},\n",
              "   {'role': 'user', 'content': 'STATEMENT: Sexual Invites'},\n",
              "   {'role': 'model', 'content': False}]},\n",
              " {'messages': [{'role': 'system',\n",
              "    'content': \"Classify if the following statement falls under commenting related to sexual harassment. The output must be a single label: 'True' or 'False'.\"},\n",
              "   {'role': 'user', 'content': 'STATEMENT: poor street lighting'},\n",
              "   {'role': 'model', 'content': False}]}]"
            ]
          },
          "metadata": {},
          "execution_count": 37
        }
      ]
    },
    {
      "cell_type": "code",
      "source": [
        "test_formatted_gemini[0:5]"
      ],
      "metadata": {
        "colab": {
          "base_uri": "https://localhost:8080/"
        },
        "id": "H53_gfTx4X9B",
        "outputId": "66590056-832e-4082-bfb9-ada070bcd4b7"
      },
      "execution_count": 45,
      "outputs": [
        {
          "output_type": "execute_result",
          "data": {
            "text/plain": [
              "[{'messages': [{'role': 'system',\n",
              "    'content': \"Classify if the following statement falls under commenting related to sexual harassment. The output must be a single label: 'True' or 'False'.\"},\n",
              "   {'role': 'user',\n",
              "    'content': 'STATEMENT: During morning, a woman was walking by and thin guy came around and called her names , and commented on her figure . The woman handled him and abused .'},\n",
              "   {'role': 'model', 'content': True}]},\n",
              " {'messages': [{'role': 'system',\n",
              "    'content': \"Classify if the following statement falls under commenting related to sexual harassment. The output must be a single label: 'True' or 'False'.\"},\n",
              "   {'role': 'user',\n",
              "    'content': \"STATEMENT: A man tried to brush his penis off of a woman's shoulder in the bus.\"},\n",
              "   {'role': 'model', 'content': False}]},\n",
              " {'messages': [{'role': 'system',\n",
              "    'content': \"Classify if the following statement falls under commenting related to sexual harassment. The output must be a single label: 'True' or 'False'.\"},\n",
              "   {'role': 'user',\n",
              "    'content': 'STATEMENT: This happened to a fellow passenger of mine travelling in the metro. He was kicked out of the metro station because he was quotdifferentlyquot dressed.'},\n",
              "   {'role': 'model', 'content': False}]},\n",
              " {'messages': [{'role': 'system',\n",
              "    'content': \"Classify if the following statement falls under commenting related to sexual harassment. The output must be a single label: 'True' or 'False'.\"},\n",
              "   {'role': 'user', 'content': 'STATEMENT: ogling'},\n",
              "   {'role': 'model', 'content': False}]},\n",
              " {'messages': [{'role': 'system',\n",
              "    'content': \"Classify if the following statement falls under commenting related to sexual harassment. The output must be a single label: 'True' or 'False'.\"},\n",
              "   {'role': 'user',\n",
              "    'content': 'STATEMENT: When I was returning my home after finishing my class. I was in queue to get on the micro bus and there was a girl opposite to me just then a young man tried to touch her on the breast.'},\n",
              "   {'role': 'model', 'content': False}]}]"
            ]
          },
          "metadata": {},
          "execution_count": 45
        }
      ]
    },
    {
      "cell_type": "code",
      "source": [
        "print(test_formatted_gemini[2])\n"
      ],
      "metadata": {
        "colab": {
          "base_uri": "https://localhost:8080/"
        },
        "id": "e_wLQANlGcra",
        "outputId": "5178d12c-2f5b-459c-8770-6d9de213283f"
      },
      "execution_count": 38,
      "outputs": [
        {
          "output_type": "stream",
          "name": "stdout",
          "text": [
            "{'messages': [{'role': 'system', 'content': \"Classify if the following statement falls under commenting related to sexual harassment. The output must be a single label: 'True' or 'False'.\"}, {'role': 'user', 'content': 'STATEMENT: This happened to a fellow passenger of mine travelling in the metro. He was kicked out of the metro station because he was quotdifferentlyquot dressed.'}, {'role': 'model', 'content': False}]}\n"
          ]
        }
      ]
    },
    {
      "cell_type": "code",
      "source": [
        "len(train_data)"
      ],
      "metadata": {
        "colab": {
          "base_uri": "https://localhost:8080/"
        },
        "id": "IN82ErPA0jCA",
        "outputId": "1e014ab9-dada-4f9f-a22a-35aec0081740"
      },
      "execution_count": 40,
      "outputs": [
        {
          "output_type": "execute_result",
          "data": {
            "text/plain": [
              "7201"
            ]
          },
          "metadata": {},
          "execution_count": 40
        }
      ]
    },
    {
      "cell_type": "code",
      "source": [
        "len(val_data)"
      ],
      "metadata": {
        "colab": {
          "base_uri": "https://localhost:8080/"
        },
        "id": "DnkvxbPrz__E",
        "outputId": "7dc0b992-a5b0-476b-c7b3-8fa15f006be3"
      },
      "execution_count": 41,
      "outputs": [
        {
          "output_type": "execute_result",
          "data": {
            "text/plain": [
              "1701"
            ]
          },
          "metadata": {},
          "execution_count": 41
        }
      ]
    },
    {
      "cell_type": "code",
      "source": [
        "import json\n",
        "\n",
        "def save_as_jsonl(data, filename):\n",
        "    \"\"\" Save the dataset in JSON Lines format. \"\"\"\n",
        "    with open(filename, 'w', encoding='utf-8') as f:\n",
        "        for item in data:\n",
        "            f.write(json.dumps(item) + '\\n')"
      ],
      "metadata": {
        "id": "LRHPbb6wLPcU"
      },
      "execution_count": 42,
      "outputs": []
    },
    {
      "cell_type": "code",
      "source": [
        "# Saving the datasets\n",
        "save_as_jsonl(train_formatted_gemini, 'CERC_SafeCity_Commenting_train.jsonl')\n",
        "save_as_jsonl(test_formatted_gemini, 'CERC_SafeCity_Commenting_test.jsonl')\n",
        "save_as_jsonl(val_formatted_gemini, 'CERC_SafeCity_Commenting_val.jsonl')"
      ],
      "metadata": {
        "id": "oYG-i7FkAQSw"
      },
      "execution_count": 43,
      "outputs": []
    },
    {
      "cell_type": "code",
      "source": [
        "#save_as_jsonl(validation_data, 'CMV_Dynamic_Gemini_validation.jsonl')"
      ],
      "metadata": {
        "id": "MeyrP62DlhRu"
      },
      "execution_count": null,
      "outputs": []
    }
  ]
}