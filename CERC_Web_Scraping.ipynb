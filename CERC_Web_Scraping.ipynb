{
  "nbformat": 4,
  "nbformat_minor": 0,
  "metadata": {
    "colab": {
      "provenance": [],
      "authorship_tag": "ABX9TyOvKf1E4ZRxFOsyf+mL5y2f",
      "include_colab_link": true
    },
    "kernelspec": {
      "name": "python3",
      "display_name": "Python 3"
    },
    "language_info": {
      "name": "python"
    }
  },
  "cells": [
    {
      "cell_type": "markdown",
      "metadata": {
        "id": "view-in-github",
        "colab_type": "text"
      },
      "source": [
        "<a href=\"https://colab.research.google.com/github/deek2689/CERC_AI/blob/main/CERC_Web_Scraping.ipynb\" target=\"_parent\"><img src=\"https://colab.research.google.com/assets/colab-badge.svg\" alt=\"Open In Colab\"/></a>"
      ]
    },
    {
      "cell_type": "code",
      "execution_count": null,
      "metadata": {
        "id": "uCbKtZTKCAh5"
      },
      "outputs": [],
      "source": [
        "!pip install selenium -q -U\n",
        "!pip install webdriver_manager -q -U"
      ]
    },
    {
      "cell_type": "code",
      "source": [
        "\n",
        "!apt-get update # to update ubuntu to correctly run apt install\n",
        "!apt install chromium-chromedriver\n",
        "!cp /usr/lib/chromium-browser/chromedriver /usr/bin\n",
        "import sys\n",
        "sys.path.insert(0,'/usr/lib/chromium-browser/chromedriver')\n"
      ],
      "metadata": {
        "id": "eQx5oSGvDTeT"
      },
      "execution_count": null,
      "outputs": []
    },
    {
      "cell_type": "code",
      "source": [
        "from selenium import webdriver\n",
        "from selenium.webdriver.chrome.options import Options\n",
        "from bs4 import BeautifulSoup as bs\n",
        "import time\n",
        "from webdriver_manager.chrome import ChromeDriverManager\n",
        "from selenium import webdriver\n",
        "from selenium.webdriver.chrome.service import Service\n",
        "from selenium.webdriver.common.by import By\n",
        "from selenium.webdriver.common.action_chains import ActionChains"
      ],
      "metadata": {
        "id": "c1tvFHDwDek9"
      },
      "execution_count": 20,
      "outputs": []
    },
    {
      "cell_type": "code",
      "source": [
        "chrome_options = Options()\n",
        "chrome_options.add_argument('--headless')\n",
        "chrome_options.add_argument('--no-sandbox')\n",
        "chrome_options.add_argument('--disable-dev-shm-usage')\n"
      ],
      "metadata": {
        "id": "MsZLRCmIDf7X"
      },
      "execution_count": 13,
      "outputs": []
    },
    {
      "cell_type": "code",
      "source": [
        "import json"
      ],
      "metadata": {
        "id": "Vq1jNX5fB9Dd"
      },
      "execution_count": 28,
      "outputs": []
    },
    {
      "cell_type": "code",
      "source": [
        "driver = webdriver.Chrome(options = chrome_options)\n",
        "url = 'https://everydaysexism.com/page/1000'\n",
        "driver.get(url)\n",
        "\n",
        "time.sleep(2)  # to Allow the page to load\n",
        "\n",
        "# Scrape the first page\n",
        "entries_list = []\n",
        "max_clicks = 1000  # to scrape 1000 pages\n",
        "click_count = 0   # Initializing click counter\n",
        "\n",
        "\n",
        "try:\n",
        "    while click_count<max_clicks:\n",
        "        # Parsing the current page content\n",
        "        soup = bs(driver.page_source, \"html.parser\")\n",
        "        content = soup.find(\"section\", id=\"content\")\n",
        "        if content:\n",
        "            entries = content.find_all(\"p\")[2:]\n",
        "            for entry in entries:\n",
        "                entries_list.append(entry.text)\n",
        "\n",
        "        print(f\"Page scraped. Total entries so far: {len(entries_list)}\")\n",
        "\n",
        "        # Trying to find and click the \"nav-previous\" button\n",
        "        try:\n",
        "            nav_button = driver.find_element(By.CLASS_NAME, \"nav-previous\")\n",
        "            ActionChains(driver).move_to_element(nav_button).click().perform()\n",
        "            time.sleep(2)\n",
        "            click_count += 1\n",
        "        except Exception:\n",
        "            print(\"No more pages to navigate. Exiting.\")\n",
        "            break\n",
        "\n",
        "finally:\n",
        "    driver.quit()\n",
        "\n",
        "# Print the collected entries\n",
        "for entry in entries_list:\n",
        "    print(entry)"
      ],
      "metadata": {
        "id": "lEIrGtPfDi4q"
      },
      "execution_count": null,
      "outputs": []
    },
    {
      "cell_type": "code",
      "source": [
        "from google.colab import files\n",
        "output_file = \"EverydaySexism_data_10k_entries.txt\"\n",
        "with open(output_file, \"w\", encoding=\"utf-8\") as f:\n",
        "    f.writelines(f\"{entry}\\n\" for entry in entries_list)\n",
        "\n",
        "# Downloading the file\n",
        "files.download(output_file)"
      ],
      "metadata": {
        "colab": {
          "base_uri": "https://localhost:8080/",
          "height": 17
        },
        "id": "SeOMITO0rcpZ",
        "outputId": "1f5f0258-c0bd-490e-be03-4a1716642309"
      },
      "execution_count": 33,
      "outputs": [
        {
          "output_type": "display_data",
          "data": {
            "text/plain": [
              "<IPython.core.display.Javascript object>"
            ],
            "application/javascript": [
              "\n",
              "    async function download(id, filename, size) {\n",
              "      if (!google.colab.kernel.accessAllowed) {\n",
              "        return;\n",
              "      }\n",
              "      const div = document.createElement('div');\n",
              "      const label = document.createElement('label');\n",
              "      label.textContent = `Downloading \"${filename}\": `;\n",
              "      div.appendChild(label);\n",
              "      const progress = document.createElement('progress');\n",
              "      progress.max = size;\n",
              "      div.appendChild(progress);\n",
              "      document.body.appendChild(div);\n",
              "\n",
              "      const buffers = [];\n",
              "      let downloaded = 0;\n",
              "\n",
              "      const channel = await google.colab.kernel.comms.open(id);\n",
              "      // Send a message to notify the kernel that we're ready.\n",
              "      channel.send({})\n",
              "\n",
              "      for await (const message of channel.messages) {\n",
              "        // Send a message to notify the kernel that we're ready.\n",
              "        channel.send({})\n",
              "        if (message.buffers) {\n",
              "          for (const buffer of message.buffers) {\n",
              "            buffers.push(buffer);\n",
              "            downloaded += buffer.byteLength;\n",
              "            progress.value = downloaded;\n",
              "          }\n",
              "        }\n",
              "      }\n",
              "      const blob = new Blob(buffers, {type: 'application/binary'});\n",
              "      const a = document.createElement('a');\n",
              "      a.href = window.URL.createObjectURL(blob);\n",
              "      a.download = filename;\n",
              "      div.appendChild(a);\n",
              "      a.click();\n",
              "      div.remove();\n",
              "    }\n",
              "  "
            ]
          },
          "metadata": {}
        },
        {
          "output_type": "display_data",
          "data": {
            "text/plain": [
              "<IPython.core.display.Javascript object>"
            ],
            "application/javascript": [
              "download(\"download_4e6e6c85-4bea-4cb1-90f2-6d186921e4b0\", \"EverydaySexism_data_10k_entries.txt\", 9157084)"
            ]
          },
          "metadata": {}
        }
      ]
    }
  ]
}