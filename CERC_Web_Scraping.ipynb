{
  "nbformat": 4,
  "nbformat_minor": 0,
  "metadata": {
    "colab": {
      "provenance": [],
      "authorship_tag": "ABX9TyMuwa9UuKrlnjX0h+hsYmgx",
      "include_colab_link": true
    },
    "kernelspec": {
      "name": "python3",
      "display_name": "Python 3"
    },
    "language_info": {
      "name": "python"
    }
  },
  "cells": [
    {
      "cell_type": "markdown",
      "metadata": {
        "id": "view-in-github",
        "colab_type": "text"
      },
      "source": [
        "<a href=\"https://colab.research.google.com/github/deek2689/CERC_AI/blob/main/CERC_Web_Scraping.ipynb\" target=\"_parent\"><img src=\"https://colab.research.google.com/assets/colab-badge.svg\" alt=\"Open In Colab\"/></a>"
      ]
    },
    {
      "cell_type": "code",
      "execution_count": 1,
      "metadata": {
        "colab": {
          "base_uri": "https://localhost:8080/"
        },
        "id": "uCbKtZTKCAh5",
        "outputId": "b373a8c7-cf95-4c0a-a6ac-bb7978a62558"
      },
      "outputs": [
        {
          "output_type": "stream",
          "name": "stdout",
          "text": [
            "Collecting selenium\n",
            "  Downloading selenium-4.27.1-py3-none-any.whl.metadata (7.1 kB)\n",
            "Requirement already satisfied: urllib3<3,>=1.26 in /usr/local/lib/python3.10/dist-packages (from urllib3[socks]<3,>=1.26->selenium) (2.2.3)\n",
            "Collecting trio~=0.17 (from selenium)\n",
            "  Downloading trio-0.27.0-py3-none-any.whl.metadata (8.6 kB)\n",
            "Collecting trio-websocket~=0.9 (from selenium)\n",
            "  Downloading trio_websocket-0.11.1-py3-none-any.whl.metadata (4.7 kB)\n",
            "Requirement already satisfied: certifi>=2021.10.8 in /usr/local/lib/python3.10/dist-packages (from selenium) (2024.8.30)\n",
            "Requirement already satisfied: typing_extensions~=4.9 in /usr/local/lib/python3.10/dist-packages (from selenium) (4.12.2)\n",
            "Requirement already satisfied: websocket-client~=1.8 in /usr/local/lib/python3.10/dist-packages (from selenium) (1.8.0)\n",
            "Requirement already satisfied: attrs>=23.2.0 in /usr/local/lib/python3.10/dist-packages (from trio~=0.17->selenium) (24.2.0)\n",
            "Collecting sortedcontainers (from trio~=0.17->selenium)\n",
            "  Downloading sortedcontainers-2.4.0-py2.py3-none-any.whl.metadata (10 kB)\n",
            "Requirement already satisfied: idna in /usr/local/lib/python3.10/dist-packages (from trio~=0.17->selenium) (3.10)\n",
            "Collecting outcome (from trio~=0.17->selenium)\n",
            "  Downloading outcome-1.3.0.post0-py2.py3-none-any.whl.metadata (2.6 kB)\n",
            "Requirement already satisfied: sniffio>=1.3.0 in /usr/local/lib/python3.10/dist-packages (from trio~=0.17->selenium) (1.3.1)\n",
            "Requirement already satisfied: exceptiongroup in /usr/local/lib/python3.10/dist-packages (from trio~=0.17->selenium) (1.2.2)\n",
            "Collecting wsproto>=0.14 (from trio-websocket~=0.9->selenium)\n",
            "  Downloading wsproto-1.2.0-py3-none-any.whl.metadata (5.6 kB)\n",
            "Requirement already satisfied: pysocks!=1.5.7,<2.0,>=1.5.6 in /usr/local/lib/python3.10/dist-packages (from urllib3[socks]<3,>=1.26->selenium) (1.7.1)\n",
            "Requirement already satisfied: h11<1,>=0.9.0 in /usr/local/lib/python3.10/dist-packages (from wsproto>=0.14->trio-websocket~=0.9->selenium) (0.14.0)\n",
            "Downloading selenium-4.27.1-py3-none-any.whl (9.7 MB)\n",
            "\u001b[2K   \u001b[90m━━━━━━━━━━━━━━━━━━━━━━━━━━━━━━━━━━━━━━━━\u001b[0m \u001b[32m9.7/9.7 MB\u001b[0m \u001b[31m30.4 MB/s\u001b[0m eta \u001b[36m0:00:00\u001b[0m\n",
            "\u001b[?25hDownloading trio-0.27.0-py3-none-any.whl (481 kB)\n",
            "\u001b[2K   \u001b[90m━━━━━━━━━━━━━━━━━━━━━━━━━━━━━━━━━━━━━━━━\u001b[0m \u001b[32m481.7/481.7 kB\u001b[0m \u001b[31m23.4 MB/s\u001b[0m eta \u001b[36m0:00:00\u001b[0m\n",
            "\u001b[?25hDownloading trio_websocket-0.11.1-py3-none-any.whl (17 kB)\n",
            "Downloading wsproto-1.2.0-py3-none-any.whl (24 kB)\n",
            "Downloading outcome-1.3.0.post0-py2.py3-none-any.whl (10 kB)\n",
            "Downloading sortedcontainers-2.4.0-py2.py3-none-any.whl (29 kB)\n",
            "Installing collected packages: sortedcontainers, wsproto, outcome, trio, trio-websocket, selenium\n",
            "Successfully installed outcome-1.3.0.post0 selenium-4.27.1 sortedcontainers-2.4.0 trio-0.27.0 trio-websocket-0.11.1 wsproto-1.2.0\n",
            "Collecting webdriver_manager\n",
            "  Downloading webdriver_manager-4.0.2-py2.py3-none-any.whl.metadata (12 kB)\n",
            "Requirement already satisfied: requests in /usr/local/lib/python3.10/dist-packages (from webdriver_manager) (2.32.3)\n",
            "Collecting python-dotenv (from webdriver_manager)\n",
            "  Downloading python_dotenv-1.0.1-py3-none-any.whl.metadata (23 kB)\n",
            "Requirement already satisfied: packaging in /usr/local/lib/python3.10/dist-packages (from webdriver_manager) (24.2)\n",
            "Requirement already satisfied: charset-normalizer<4,>=2 in /usr/local/lib/python3.10/dist-packages (from requests->webdriver_manager) (3.4.0)\n",
            "Requirement already satisfied: idna<4,>=2.5 in /usr/local/lib/python3.10/dist-packages (from requests->webdriver_manager) (3.10)\n",
            "Requirement already satisfied: urllib3<3,>=1.21.1 in /usr/local/lib/python3.10/dist-packages (from requests->webdriver_manager) (2.2.3)\n",
            "Requirement already satisfied: certifi>=2017.4.17 in /usr/local/lib/python3.10/dist-packages (from requests->webdriver_manager) (2024.8.30)\n",
            "Downloading webdriver_manager-4.0.2-py2.py3-none-any.whl (27 kB)\n",
            "Downloading python_dotenv-1.0.1-py3-none-any.whl (19 kB)\n",
            "Installing collected packages: python-dotenv, webdriver_manager\n",
            "Successfully installed python-dotenv-1.0.1 webdriver_manager-4.0.2\n"
          ]
        }
      ],
      "source": [
        "!pip install selenium\n",
        "!pip install webdriver_manager"
      ]
    },
    {
      "cell_type": "code",
      "source": [
        "\n",
        "!apt-get update # to update ubuntu to correctly run apt install\n",
        "!apt install chromium-chromedriver\n",
        "!cp /usr/lib/chromium-browser/chromedriver /usr/bin\n",
        "import sys\n",
        "sys.path.insert(0,'/usr/lib/chromium-browser/chromedriver')\n"
      ],
      "metadata": {
        "colab": {
          "base_uri": "https://localhost:8080/"
        },
        "id": "eQx5oSGvDTeT",
        "outputId": "f1ccae72-b8eb-41f0-8658-19f512f5dd60"
      },
      "execution_count": 2,
      "outputs": [
        {
          "output_type": "stream",
          "name": "stdout",
          "text": [
            "\r0% [Working]\r            \rGet:1 https://cloud.r-project.org/bin/linux/ubuntu jammy-cran40/ InRelease [3,626 B]\n",
            "\r0% [Connecting to archive.ubuntu.com (185.125.190.81)] [Waiting for headers] [1 InRelease 0 B/3,626 \r0% [Connecting to archive.ubuntu.com (185.125.190.81)] [Waiting for headers] [Connected to r2u.stat.\r                                                                                                    \rGet:2 http://security.ubuntu.com/ubuntu jammy-security InRelease [129 kB]\n",
            "Get:3 https://developer.download.nvidia.com/compute/cuda/repos/ubuntu2204/x86_64  InRelease [1,581 B]\n",
            "Hit:4 http://archive.ubuntu.com/ubuntu jammy InRelease\n",
            "Get:5 https://r2u.stat.illinois.edu/ubuntu jammy InRelease [6,555 B]\n",
            "Get:6 http://archive.ubuntu.com/ubuntu jammy-updates InRelease [128 kB]\n",
            "Get:7 https://developer.download.nvidia.com/compute/cuda/repos/ubuntu2204/x86_64  Packages [1,192 kB]\n",
            "Hit:8 https://ppa.launchpadcontent.net/deadsnakes/ppa/ubuntu jammy InRelease\n",
            "Hit:9 https://ppa.launchpadcontent.net/graphics-drivers/ppa/ubuntu jammy InRelease\n",
            "Hit:10 https://ppa.launchpadcontent.net/ubuntugis/ppa/ubuntu jammy InRelease\n",
            "Get:11 http://archive.ubuntu.com/ubuntu jammy-backports InRelease [127 kB]\n",
            "Get:12 https://r2u.stat.illinois.edu/ubuntu jammy/main all Packages [8,532 kB]\n",
            "Get:13 http://security.ubuntu.com/ubuntu jammy-security/main amd64 Packages [2,454 kB]\n",
            "Get:14 https://r2u.stat.illinois.edu/ubuntu jammy/main amd64 Packages [2,626 kB]\n",
            "Get:15 http://archive.ubuntu.com/ubuntu jammy-updates/main amd64 Packages [2,738 kB]\n",
            "Fetched 17.9 MB in 5s (3,564 kB/s)\n",
            "Reading package lists... Done\n",
            "W: Skipping acquire of configured file 'main/source/Sources' as repository 'https://r2u.stat.illinois.edu/ubuntu jammy InRelease' does not seem to provide it (sources.list entry misspelt?)\n",
            "Reading package lists... Done\n",
            "Building dependency tree... Done\n",
            "Reading state information... Done\n",
            "The following additional packages will be installed:\n",
            "  apparmor chromium-browser libfuse3-3 liblzo2-2 libudev1 snapd squashfs-tools systemd-hwe-hwdb\n",
            "  udev\n",
            "Suggested packages:\n",
            "  apparmor-profiles-extra apparmor-utils fuse3 zenity | kdialog\n",
            "The following NEW packages will be installed:\n",
            "  apparmor chromium-browser chromium-chromedriver libfuse3-3 liblzo2-2 snapd squashfs-tools\n",
            "  systemd-hwe-hwdb udev\n",
            "The following packages will be upgraded:\n",
            "  libudev1\n",
            "1 upgraded, 9 newly installed, 0 to remove and 49 not upgraded.\n",
            "Need to get 30.2 MB of archives.\n",
            "After this operation, 123 MB of additional disk space will be used.\n",
            "Get:1 http://archive.ubuntu.com/ubuntu jammy-updates/main amd64 apparmor amd64 3.0.4-2ubuntu2.4 [598 kB]\n",
            "Get:2 http://archive.ubuntu.com/ubuntu jammy/main amd64 liblzo2-2 amd64 2.10-2build3 [53.7 kB]\n",
            "Get:3 http://archive.ubuntu.com/ubuntu jammy/main amd64 squashfs-tools amd64 1:4.5-3build1 [159 kB]\n",
            "Get:4 http://archive.ubuntu.com/ubuntu jammy-updates/main amd64 libudev1 amd64 249.11-0ubuntu3.12 [78.2 kB]\n",
            "Get:5 http://archive.ubuntu.com/ubuntu jammy-updates/main amd64 udev amd64 249.11-0ubuntu3.12 [1,557 kB]\n",
            "Get:6 http://archive.ubuntu.com/ubuntu jammy/main amd64 libfuse3-3 amd64 3.10.5-1build1 [81.2 kB]\n",
            "Get:7 http://archive.ubuntu.com/ubuntu jammy-updates/main amd64 snapd amd64 2.66.1+22.04 [27.6 MB]\n",
            "Get:8 http://archive.ubuntu.com/ubuntu jammy-updates/universe amd64 chromium-browser amd64 1:85.0.4183.83-0ubuntu2.22.04.1 [49.2 kB]\n",
            "Get:9 http://archive.ubuntu.com/ubuntu jammy-updates/universe amd64 chromium-chromedriver amd64 1:85.0.4183.83-0ubuntu2.22.04.1 [2,308 B]\n",
            "Get:10 http://archive.ubuntu.com/ubuntu jammy-updates/main amd64 systemd-hwe-hwdb all 249.11.5 [3,228 B]\n",
            "Fetched 30.2 MB in 2s (13.0 MB/s)\n",
            "Preconfiguring packages ...\n",
            "Selecting previously unselected package apparmor.\n",
            "(Reading database ... 123632 files and directories currently installed.)\n",
            "Preparing to unpack .../apparmor_3.0.4-2ubuntu2.4_amd64.deb ...\n",
            "Unpacking apparmor (3.0.4-2ubuntu2.4) ...\n",
            "Selecting previously unselected package liblzo2-2:amd64.\n",
            "Preparing to unpack .../liblzo2-2_2.10-2build3_amd64.deb ...\n",
            "Unpacking liblzo2-2:amd64 (2.10-2build3) ...\n",
            "Selecting previously unselected package squashfs-tools.\n",
            "Preparing to unpack .../squashfs-tools_1%3a4.5-3build1_amd64.deb ...\n",
            "Unpacking squashfs-tools (1:4.5-3build1) ...\n",
            "Preparing to unpack .../libudev1_249.11-0ubuntu3.12_amd64.deb ...\n",
            "Unpacking libudev1:amd64 (249.11-0ubuntu3.12) over (249.11-0ubuntu3.10) ...\n",
            "Setting up libudev1:amd64 (249.11-0ubuntu3.12) ...\n",
            "Selecting previously unselected package udev.\n",
            "(Reading database ... 123840 files and directories currently installed.)\n",
            "Preparing to unpack .../udev_249.11-0ubuntu3.12_amd64.deb ...\n",
            "Unpacking udev (249.11-0ubuntu3.12) ...\n",
            "Selecting previously unselected package libfuse3-3:amd64.\n",
            "Preparing to unpack .../libfuse3-3_3.10.5-1build1_amd64.deb ...\n",
            "Unpacking libfuse3-3:amd64 (3.10.5-1build1) ...\n",
            "Selecting previously unselected package snapd.\n",
            "Preparing to unpack .../snapd_2.66.1+22.04_amd64.deb ...\n",
            "Unpacking snapd (2.66.1+22.04) ...\n",
            "Setting up apparmor (3.0.4-2ubuntu2.4) ...\n",
            "Created symlink /etc/systemd/system/sysinit.target.wants/apparmor.service → /lib/systemd/system/apparmor.service.\n",
            "Setting up liblzo2-2:amd64 (2.10-2build3) ...\n",
            "Setting up squashfs-tools (1:4.5-3build1) ...\n",
            "Setting up udev (249.11-0ubuntu3.12) ...\n",
            "invoke-rc.d: could not determine current runlevel\n",
            "invoke-rc.d: policy-rc.d denied execution of start.\n",
            "Setting up libfuse3-3:amd64 (3.10.5-1build1) ...\n",
            "Setting up snapd (2.66.1+22.04) ...\n",
            "Created symlink /etc/systemd/system/multi-user.target.wants/snapd.apparmor.service → /lib/systemd/system/snapd.apparmor.service.\n",
            "Created symlink /etc/systemd/system/multi-user.target.wants/snapd.autoimport.service → /lib/systemd/system/snapd.autoimport.service.\n",
            "Created symlink /etc/systemd/system/multi-user.target.wants/snapd.core-fixup.service → /lib/systemd/system/snapd.core-fixup.service.\n",
            "Created symlink /etc/systemd/system/multi-user.target.wants/snapd.recovery-chooser-trigger.service → /lib/systemd/system/snapd.recovery-chooser-trigger.service.\n",
            "Created symlink /etc/systemd/system/multi-user.target.wants/snapd.seeded.service → /lib/systemd/system/snapd.seeded.service.\n",
            "Created symlink /etc/systemd/system/cloud-final.service.wants/snapd.seeded.service → /lib/systemd/system/snapd.seeded.service.\n",
            "Unit /lib/systemd/system/snapd.seeded.service is added as a dependency to a non-existent unit cloud-final.service.\n",
            "Created symlink /etc/systemd/system/multi-user.target.wants/snapd.service → /lib/systemd/system/snapd.service.\n",
            "Created symlink /etc/systemd/system/timers.target.wants/snapd.snap-repair.timer → /lib/systemd/system/snapd.snap-repair.timer.\n",
            "Created symlink /etc/systemd/system/sockets.target.wants/snapd.socket → /lib/systemd/system/snapd.socket.\n",
            "Created symlink /etc/systemd/system/final.target.wants/snapd.system-shutdown.service → /lib/systemd/system/snapd.system-shutdown.service.\n",
            "Selecting previously unselected package chromium-browser.\n",
            "(Reading database ... 124069 files and directories currently installed.)\n",
            "Preparing to unpack .../chromium-browser_1%3a85.0.4183.83-0ubuntu2.22.04.1_amd64.deb ...\n",
            "=> Installing the chromium snap\n",
            "==> Checking connectivity with the snap store\n",
            "===> System doesn't have a working snapd, skipping\n",
            "Unpacking chromium-browser (1:85.0.4183.83-0ubuntu2.22.04.1) ...\n",
            "Selecting previously unselected package chromium-chromedriver.\n",
            "Preparing to unpack .../chromium-chromedriver_1%3a85.0.4183.83-0ubuntu2.22.04.1_amd64.deb ...\n",
            "Unpacking chromium-chromedriver (1:85.0.4183.83-0ubuntu2.22.04.1) ...\n",
            "Selecting previously unselected package systemd-hwe-hwdb.\n",
            "Preparing to unpack .../systemd-hwe-hwdb_249.11.5_all.deb ...\n",
            "Unpacking systemd-hwe-hwdb (249.11.5) ...\n",
            "Setting up systemd-hwe-hwdb (249.11.5) ...\n",
            "Setting up chromium-browser (1:85.0.4183.83-0ubuntu2.22.04.1) ...\n",
            "update-alternatives: using /usr/bin/chromium-browser to provide /usr/bin/x-www-browser (x-www-browser) in auto mode\n",
            "update-alternatives: using /usr/bin/chromium-browser to provide /usr/bin/gnome-www-browser (gnome-www-browser) in auto mode\n",
            "Setting up chromium-chromedriver (1:85.0.4183.83-0ubuntu2.22.04.1) ...\n",
            "Processing triggers for udev (249.11-0ubuntu3.12) ...\n",
            "Processing triggers for hicolor-icon-theme (0.17-2) ...\n",
            "Processing triggers for libc-bin (2.35-0ubuntu3.4) ...\n",
            "/sbin/ldconfig.real: /usr/local/lib/libtbb.so.12 is not a symbolic link\n",
            "\n",
            "/sbin/ldconfig.real: /usr/local/lib/libtcm.so.1 is not a symbolic link\n",
            "\n",
            "/sbin/ldconfig.real: /usr/local/lib/libtbbmalloc_proxy.so.2 is not a symbolic link\n",
            "\n",
            "/sbin/ldconfig.real: /usr/local/lib/libhwloc.so.15 is not a symbolic link\n",
            "\n",
            "/sbin/ldconfig.real: /usr/local/lib/libtbbmalloc.so.2 is not a symbolic link\n",
            "\n",
            "/sbin/ldconfig.real: /usr/local/lib/libur_adapter_level_zero.so.0 is not a symbolic link\n",
            "\n",
            "/sbin/ldconfig.real: /usr/local/lib/libtbbbind_2_5.so.3 is not a symbolic link\n",
            "\n",
            "/sbin/ldconfig.real: /usr/local/lib/libtcm_debug.so.1 is not a symbolic link\n",
            "\n",
            "/sbin/ldconfig.real: /usr/local/lib/libumf.so.0 is not a symbolic link\n",
            "\n",
            "/sbin/ldconfig.real: /usr/local/lib/libtbbbind_2_0.so.3 is not a symbolic link\n",
            "\n",
            "/sbin/ldconfig.real: /usr/local/lib/libtbbbind.so.3 is not a symbolic link\n",
            "\n",
            "/sbin/ldconfig.real: /usr/local/lib/libur_adapter_opencl.so.0 is not a symbolic link\n",
            "\n",
            "/sbin/ldconfig.real: /usr/local/lib/libur_loader.so.0 is not a symbolic link\n",
            "\n",
            "Processing triggers for man-db (2.10.2-1) ...\n",
            "Processing triggers for dbus (1.12.20-2ubuntu4.1) ...\n",
            "cp: '/usr/lib/chromium-browser/chromedriver' and '/usr/bin/chromedriver' are the same file\n"
          ]
        }
      ]
    },
    {
      "cell_type": "code",
      "source": [
        "from selenium import webdriver\n",
        "from selenium.webdriver.chrome.options import Options\n",
        "from bs4 import BeautifulSoup as bs\n",
        "import time\n",
        "from webdriver_manager.chrome import ChromeDriverManager\n",
        "from selenium import webdriver\n",
        "from selenium.webdriver.chrome.service import Service\n",
        "from selenium.webdriver.common.by import By\n",
        "from selenium.webdriver.common.action_chains import ActionChains"
      ],
      "metadata": {
        "id": "c1tvFHDwDek9"
      },
      "execution_count": 20,
      "outputs": []
    },
    {
      "cell_type": "code",
      "source": [
        "chrome_options = Options()\n",
        "chrome_options.add_argument('--headless')\n",
        "chrome_options.add_argument('--no-sandbox')\n",
        "chrome_options.add_argument('--disable-dev-shm-usage')\n"
      ],
      "metadata": {
        "id": "MsZLRCmIDf7X"
      },
      "execution_count": 13,
      "outputs": []
    },
    {
      "cell_type": "code",
      "source": [
        "import json"
      ],
      "metadata": {
        "id": "Vq1jNX5fB9Dd"
      },
      "execution_count": 28,
      "outputs": []
    },
    {
      "cell_type": "code",
      "source": [
        "driver = webdriver.Chrome(options = chrome_options)\n",
        "url = 'https://everydaysexism.com/page/1000'\n",
        "driver.get(url)\n",
        "\n",
        "time.sleep(2)  # to Allow the page to load\n",
        "\n",
        "# Scrape the first page\n",
        "entries_list = []\n",
        "max_clicks = 1000  # to scrape 1000 pages\n",
        "click_count = 0   # Initializing click counter\n",
        "\n",
        "\n",
        "try:\n",
        "    while click_count<max_clicks:\n",
        "        # Parsing the current page content\n",
        "        soup = bs(driver.page_source, \"html.parser\")\n",
        "        content = soup.find(\"section\", id=\"content\")\n",
        "        if content:\n",
        "            entries = content.find_all(\"p\")[2:]\n",
        "            for entry in entries:\n",
        "                entries_list.append(entry.text)\n",
        "\n",
        "        print(f\"Page scraped. Total entries so far: {len(entries_list)}\")\n",
        "\n",
        "        # Trying to find and click the \"nav-previous\" button\n",
        "        try:\n",
        "            nav_button = driver.find_element(By.CLASS_NAME, \"nav-previous\")\n",
        "            ActionChains(driver).move_to_element(nav_button).click().perform()\n",
        "            time.sleep(2)\n",
        "            click_count += 1\n",
        "        except Exception:\n",
        "            print(\"No more pages to navigate. Exiting.\")\n",
        "            break\n",
        "\n",
        "finally:\n",
        "    driver.quit()\n",
        "\n",
        "# Print the collected entries\n",
        "for entry in entries_list:\n",
        "    print(entry)"
      ],
      "metadata": {
        "id": "lEIrGtPfDi4q",
        "colab": {
          "base_uri": "https://localhost:8080/"
        },
        "outputId": "5649964e-ddfa-4980-bb1e-02c5d7baddcc"
      },
      "execution_count": 35,
      "outputs": [
        {
          "output_type": "stream",
          "name": "stdout",
          "text": [
            "Page scraped. Total entries so far: 10\n",
            "I am 26 years old I am very diplomatic the way I talk, but I am also very bubbly, cheeky and lively. At work I was told by a woman to be more confident & addult to be taken seriously. Women should stick together and I will never act like a stick in the ass person just because I am to lively and beautiful to be taken seriously by other people we should always be taken seriously.\n",
            "I was buying some chips at the cinema. The man who served me handed back my card then turned to my male friend and asked him if he wanted the receipt.\n",
            "A guy kept asking me out on a date at a bus stop after I had said no and kept pushing himself closer to me after I told him to back off. He didn’t stop until another man who was watching the situation came over and told him to leave me alone. I am incredibly grateful that the man stuck up for me but why is me saying no not enough? Why does he only have enough respect for another man to stop?\n",
            "I got on the London Underground and two guys said “massive tits” to each other, about me. When my friend called them out on it they just laughed and other men on the tube that also heard found it funny. It was boiling but I put my jacket back on because I felt so self conscious in my baggy buttoned up shirt!!!! Not that what I’m wearing should give someone the right to make comments anyway.\n",
            "My 3 male housemates like to have “banter” by commenting on and comparing the breasts of women they match with on Tinder. They also make bets like “who will be the first to convince their girlfriend to do anal with them?” I call them out on it and they tell me to “calm down” and “stop being a boring feminist”. I think it’s time that young men are taught the importance of respecting women. I wonder if they’d ever chat to their mother or sister like this?\n",
            "I work as a librarian in a secondary school. We are quite often contacted by people wanting to donate some of their books to us, which is always nice. So, one day, I get a phonecall from this guy who has books to give. I say we’ll gladly take them all and we arrange a rendez-vous. He gets into the school with his car, in which are quite a lot of boxes full of books. Sadly, the library is in a not-so-accessible building, and on the third floor, too. I tell him (by phone) where he can park to be as close as possible to the library building, take a hand truck and go to meet him. We proceed to pile some boxes on the hand truck, and I naturally start to maneuver it, because : 1) It’s what I usually do in this kind of situations, regardless of who is with me (and I do have to do it quite a lot) 2) I consider that, since I’m the one wanting the books, and he’s already been kind enough to drive to the school to bring them, it is only natural that I take over 3) I’m used to both the hand truck and the school : I know where to go and what path to take to have as little difficulty as possible 4) He’s elderly (like in his 60′ or 70′) and I’m barely 24 at the time 5) I actually enjoy maneuvering the hand truck! …and the guy literally pushes me out of the way, telling me that HE should do that because, I quote : “I think I’m still stronger than you” (read : “stronger than a girl”). And I let him do it, at first, because what do I know ? Maybe he actually IS stronger than me! I mean, I had met him only 5 minutes ago, for all I knew he could have been a weight-lifter-champion and go to the gym every day… Except that, after something like 30 second of pushing the hand truck, he starts complaining that it IS quite heavy, and that maybe we shouldn’t have piled up so much boxes, and why all these students lingering in the hallway (it was recess) can’t help ? So, he was basically saying that ANY BOY (either an 60-something old man who obviously isn’t all that strong anymore, or a 12-year-old student who has absolutely nothing to do with this whole business) would be better than me to use the hand truck and lift those boxes…even though I actually do it on a regular basis, because it is part of my JOB! BTW, we had to make a second journey, since we hadn’t moved all the boxes yet, and that time, I insisted on pushing the hand truck, and that YES, he could put ALL the remaining boxes on it, I can manage!\n",
            "– when my granpa took a photo of me and told me i look like a model. I was 7 years old. – when I worked as cashier and a man in his 50s told me I was too pretty to be working as a cashier – when my boyfriend asks whether I’m on my period when I’m simply in a bad mood – when that guy on the subway followed me and grabbed my breasts and between my legs – when that random older guy came up to me and told me I had nice legs and that they would look nice in stockings – when I was dancing at a club and that guy rubbed his crotch against my butt. I hadn’t even seen his face. – when on prom night a (female) classmate complimented me saying: “Wow, for once you look like a girl.” – when I’m at the climbing wall and women ask their men how to make the next move and barely any man ever asks the same question back. – when on the way to the station I see four half naked women posing seductively on some random ads. Not a single naked man. – when all my male friends are suprised to find out that I (and most other women) feel insecure when walking home alone at night – when we are only 4 girls out of 25 rugby players at our mixed team at uni. And there is not one man doing Zumba.\n",
            "-When I was 16 I was going out with a few of my friends. I was sitting down next to one of my guy friends on the side of the club when a guy walked towards me and without words pushed my legs apart and stood in between them so I couldn’t walk away from him. He then tried to kiss me and I leaned back and told him “no” and that I did not want to make out with him. He then tried again and I moved further back and told him again that I had no interest in making out with him. The whole thing repeated itself again until the guy friend sitting next to me told him that obviously I did not want to make out with him and that he should leave me alone. -One time I was at a “house-party” at my (girl)friends house. It was already quite late and only me, my girl friend her boyfriend and his friends were left. She and her boyfriend left the room to get food. I was getting a blanket and layed down on a couch so i could sleep. The guys left in the room told me that i cannot sleep now and the only way they will let me sleep is if I have sex with one of them beforehand. I told them no and thinking they were probably not that serious tried sleeping again. But again they were telling me they will not let me sleep and that I should have sex with one of the guys. I told them no and to leave me alone. So they took a pillow and put it over my face and started pushing it onto my face. I tried to push them off but I didnt manage to since there were 2 older guys pressing the pillow on me. I started thinking they would stop if I would just stop moving. So I did and they stopped. A few months later one of the guys told me that he hopes I got that it was all just a joke.\n",
            "I moved to another country to my mom’s work and I decided I wanted to go to an international school instead of going to a school in the native language. When I first came I got asked by everyone “Did you move here for your dad’s work?” and everytime I explained that my mom was the reason, there was this shock on their face and said things like “so your mom dragged your dad all the way here?” Even though my dad was even more excited to move than me or my mom. After a while this mostly quieted down. The next year I still went to this school and the teachers asked if a parent of on the students could be a class representitive for the other parents of the students in that class. My dad decided he would be the representitive for my class. Every month he, and the other parents that were representitives for the other classes, got an email with some information about what is happening in school that month, and every email started with “dear mums” even though my dad received these emails. We replied to those emails saying that my dad was there so we asked to stop saying “dear mums”, we went to the principal, to the person that was responsible for these emails,etc. They never changed it and it made my dad feel really insecure. This shows that sexism isn’t only something that happens to women.\n",
            "When I was 9 years old, I was sexually assaulted by a boy who was 15 at the time, that was my first kiss, which was the worst experience in my life. Later on by the same boy and his friends I was sexually harassed and assaulted for many years after until I was probably 15. The same boy would constantly tell me to beg my parents to stay out longer so he can have his way with me by groping, touching me in inappropriate places, and press himself agains me imitating sex, like in porn, he would hump with his clothes on and pull my hair so I’d cry. I was also sexually abused by my own older brother, he would watch me having a bath, he’d walk in to the bathroom asking me to open my legs so he could see what I look like down there. I never had any boyfriends or any intimate experience with a man for a long time after, I was traumatised, I honestly hated men, sexual harassments never stopped, groping, touching, calling me inappropriate names because I wouldn’t pay attention to group of males calling out for me, it doesn’t stop! I have been fairly pretty girl with large breasts, comments and abuse I get is constant. I don’t find it flattering, I am normally distressed and anxious and just want to be left alone. Once I was walking down the street and some men rolled their window of a white van down and shouted ”get your rat out” at me. My boyfriend was with me at the time and just told me to ignore them. IT is weir how he has accepted women being harassed as a normal thing, he tells me to avoid places, to wear less revealing clothes, and I mean like skirts over my knees and anything that doesn’t’ show my cleavage. Now I am nearly 24 years old, and my terrible past experience has damaged the way I feel about men. My own dad when I was younger used to hit me, many times. If I left bike in the mud, or didn’t hoover the way he wanted for me to, I’d be punished by not being allowed to leave our house for months, if I did anything wrong he’d throw things at me, milk bottles, garden hoes, electric wires, I’d go to school liking about my bruises.My mom never stood up for me , because she was afraid of the hassle. My brothers were never ever treated like that! They were able to go and do whatever they want, because dad didn’t worry about them apparently. On daily basis, even my own boyfriend who I have been with for nearly 6 years is not supportive, he absolutely hates anything to do with feminism. I feel like things should be getting better, about the way men disrespect women, with all the information you hear and read nowadays, but I feel like nothing has changed. I am afraid to be myself because of consequences it might lead me to. I don’t have any children, but if I do boy or a girl I’ll teach them respect regardless gender, I really hope one day this will stop, and girl won’t have to go through what I went through, and still do every day. That’s why I don’t really have a social life anymore. Speaking about social life, I had a major concussion because I was pushed through a metal gate on a main road at the night club, because I pushed a man who tried to kiss me away, and before that happened, I lied to him that I was engaged to try to get rid of him, because he kept touching me and coming close to me, saying how he wanted to screw me, after I told him I was engaged he shouted at me saying ” What the fuck I am doing here then?” I didn’t know what to say, I was out with my best friend, not bothering anyone just catching up. When I told my boyfriend about it he said, that maybe I shouldn’t go clubbing anymore. All my life I have had to make decisions to try to avoid situations like this. My brother were never told off for not cleaning the house or washing the dishes or not cooking the dinner, I was always, because I am a girl. Even today I will be most likely the one to do all housework, because that’s my job! Men in the house do hard work they are always tired, but I work 9 hrs a day which is on average 2-3hrs more that they do, but I am surpassingly not tired! Frustrates me.But because all of this is ”normal” me a lone I can’t fight it! So I just go with it hoping that a lot more people will speak up about this! Experiences sexual harassment at work too, a man in my team, constantly would say inappropriate things to me, and not just me, all women in the office, he never got in trouble for any o itf, every time when you went close to him he’d touch your lower back or comment on your breasts, but he got away with it because it was just a ”banter” everywhere you go sexual harassment from men, if they sense you’re getting upset they straight away say it’s just a banter, or you don’t understand jokes, can’t have a laugh with you etc. THIS HAS TO STOP, I don’t have enough years to write every single experience I’ve had, and I swear there’s plenty more! Laura Bates, I have watched all your videos, I believe in you, and I am happy I’ve found you! Now what I know there’s women out there who also fight for women and men being treated with respect, I feel like I can actually say something too, instead of ignoring people, I will actually stand up for myself, because I don’t want to accept being sexually harassed, being disrespected or not given enough credit just because I am a woman, weaker ,more vulnerable sex as people claim.\n"
          ]
        }
      ]
    },
    {
      "cell_type": "code",
      "source": [
        "from google.colab import files\n",
        "output_file = \"EverydaySexism_data_10k_entries.txt\"\n",
        "with open(output_file, \"w\", encoding=\"utf-8\") as f:\n",
        "    f.writelines(f\"{entry}\\n\" for entry in entries_list)\n",
        "\n",
        "# Downloading the file\n",
        "files.download(output_file)"
      ],
      "metadata": {
        "colab": {
          "base_uri": "https://localhost:8080/",
          "height": 17
        },
        "id": "SeOMITO0rcpZ",
        "outputId": "1f5f0258-c0bd-490e-be03-4a1716642309"
      },
      "execution_count": 33,
      "outputs": [
        {
          "output_type": "display_data",
          "data": {
            "text/plain": [
              "<IPython.core.display.Javascript object>"
            ],
            "application/javascript": [
              "\n",
              "    async function download(id, filename, size) {\n",
              "      if (!google.colab.kernel.accessAllowed) {\n",
              "        return;\n",
              "      }\n",
              "      const div = document.createElement('div');\n",
              "      const label = document.createElement('label');\n",
              "      label.textContent = `Downloading \"${filename}\": `;\n",
              "      div.appendChild(label);\n",
              "      const progress = document.createElement('progress');\n",
              "      progress.max = size;\n",
              "      div.appendChild(progress);\n",
              "      document.body.appendChild(div);\n",
              "\n",
              "      const buffers = [];\n",
              "      let downloaded = 0;\n",
              "\n",
              "      const channel = await google.colab.kernel.comms.open(id);\n",
              "      // Send a message to notify the kernel that we're ready.\n",
              "      channel.send({})\n",
              "\n",
              "      for await (const message of channel.messages) {\n",
              "        // Send a message to notify the kernel that we're ready.\n",
              "        channel.send({})\n",
              "        if (message.buffers) {\n",
              "          for (const buffer of message.buffers) {\n",
              "            buffers.push(buffer);\n",
              "            downloaded += buffer.byteLength;\n",
              "            progress.value = downloaded;\n",
              "          }\n",
              "        }\n",
              "      }\n",
              "      const blob = new Blob(buffers, {type: 'application/binary'});\n",
              "      const a = document.createElement('a');\n",
              "      a.href = window.URL.createObjectURL(blob);\n",
              "      a.download = filename;\n",
              "      div.appendChild(a);\n",
              "      a.click();\n",
              "      div.remove();\n",
              "    }\n",
              "  "
            ]
          },
          "metadata": {}
        },
        {
          "output_type": "display_data",
          "data": {
            "text/plain": [
              "<IPython.core.display.Javascript object>"
            ],
            "application/javascript": [
              "download(\"download_4e6e6c85-4bea-4cb1-90f2-6d186921e4b0\", \"EverydaySexism_data_10k_entries.txt\", 9157084)"
            ]
          },
          "metadata": {}
        }
      ]
    }
  ]
}